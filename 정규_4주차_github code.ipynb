{
 "cells": [
  {
   "cell_type": "markdown",
   "id": "e7b825c1",
   "metadata": {},
   "source": [
    "# 4주차 (1) 깃허브에서 코드 가져오고 사용하기\n",
    "\n",
    "사실 여러분이 생각하는 대부분의 작업은 이미 누군가가 코드를 다 구현해 두었습니다. (제가 구글링을 얼마든지 허용해 드린 이유도 이러한 맥락에서입니다.)\n",
    "\n",
    "Python의 최대 강점 중 하나는 인터넷에 돌아다니는 수많은 코드들을 가져와서 조금만 만지면 된다는 것이라 생각합니다. 재미 없는 기본 문법을 죽어라 다룬 것도 이 이유에서입니다.\n",
    "\n",
    ".\n",
    "\n",
    "오늘 우리는 채권의 가격을 평가하는 패키지를 인터넷에서 가져와서 사용해 보겠습니다.\n",
    "\n",
    "(일부 패키지는 pip라는 기능을 통해 바로 불러올 수도 있지만, 패키지 개발 역량이 없는 개인이 만든 패키지 혹은 다른 코드를 불러올 때는 오늘 실습과 같은 방법을 사용합니다. )"
   ]
  },
  {
   "cell_type": "markdown",
   "id": "abc0ae64",
   "metadata": {},
   "source": [
    "어느 정도 유명한 코드들은 보통 메뉴얼 문서를 제공해 줍니다. (정확히 말하면 메뉴얼이 제공되니까 쓰기 편하고, 그러다 보니 유명해진 거... 라는게 제 뇌피셜입니다)\n",
    "\n",
    "오늘 가져올 코드의 매뉴얼은 아래에서 확인할 수 있습니다.\n",
    "\n",
    "https://bond-pricing.readthedocs.io/en/latest/"
   ]
  },
  {
   "cell_type": "markdown",
   "id": "225f4abe",
   "metadata": {},
   "source": [
    ".\n",
    "\n",
    "원하는 코드를 가져오기 전에는 **작업 경로**의 개념을 알고 계셔야 합니다.\n",
    "\n",
    "작업 경로는 말 그대로 내가 지금 작업을 하고 있는 폴더를 지칭합니다.\n",
    "\n",
    "특별히 세팅을 하지 않는 한 작업 경로에서 모든 파일이 들어오고 나가게 되기 때문에, 작업 경로는 꼭 확인하고 시작해 주도록 합시다."
   ]
  },
  {
   "cell_type": "markdown",
   "id": "69acfeb4",
   "metadata": {},
   "source": [
    "주피터 파일을 저장해 둔 위치가 보통은 작업 경로로 세팅됩니다.\n",
    "\n",
    "pwd는 \"print working directory\" 즉 \"작업 경로를 출력해줘\"라는 뜻을 가진 명령어입니다"
   ]
  },
  {
   "cell_type": "code",
   "execution_count": 6,
   "id": "f28a15da",
   "metadata": {},
   "outputs": [
    {
     "data": {
      "text/plain": [
       "'c:\\\\Users\\\\ihoon\\\\Documents\\\\skk\\\\FR'"
      ]
     },
     "execution_count": 6,
     "metadata": {},
     "output_type": "execute_result"
    }
   ],
   "source": [
    "pwd"
   ]
  },
  {
   "cell_type": "markdown",
   "id": "9c2172c0",
   "metadata": {},
   "source": [
    "이제 작업 경로에 원하는 코드를 가져 옵시다.\n",
    "\n",
    "여러 가지 방법이 있겠지만 가장 쉽고 빠른 방법은 github의 코드를 바로 가져오는 것입니다.\n",
    "이때는 `git clone`을 사용합니다.\n",
    "\n",
    "우리가 가져올 bond pricing의 깃허브 레포지토리는 https://github.com/jrvarma/bond_pricing 에 있습니다.\n",
    "\n",
    ".\n",
    "\n",
    ".\n",
    "\n",
    "```\n",
    "**위에서 나온 용어들에 대한 설명: 그냥 지나가셔도 아무 상관 없는 TMI입니다**\n",
    "- Git은 사용자가 만든 코드의 버전을 관리하는 도구입니다. 팀플 하면서 피피티 수정하다 보면 자꾸 파일명에 _최종_최종_진짜최종 이런거 흔히 붙잖아요? 이런 버전 기록들을 깔끔히 모아 주는 툴이라고 보면 됩니다.\n",
    "- Github는 말 그대로 Git의 hub입니다. Git의 내용들을 웹 상에 모아 두는 가상의 저장소에요. 사용자가 수행한 프로젝트를 올려서 다른 이들과 코드를 공유하거나 협업하는 데도 쓰이고, 포트폴리오 대용으로도 많이 사용됩니다.\n",
    "- Repository는 Git 혹은 Github의 저장소 개념입니다. 하나의 프로젝트가 하나의 Repository를 차지한다고 보면 됩니다.\n",
    "```"
   ]
  },
  {
   "cell_type": "code",
   "execution_count": 3,
   "id": "2f216a5e",
   "metadata": {},
   "outputs": [
    {
     "name": "stderr",
     "output_type": "stream",
     "text": [
      "Cloning into 'bond_pricing'...\n"
     ]
    }
   ],
   "source": [
    "!git clone https://github.com/jrvarma/bond_pricing.git"
   ]
  },
  {
   "cell_type": "markdown",
   "id": "0d77ca5f",
   "metadata": {},
   "source": [
    "이제 코드가 모두 넘어왔습니다. 작업 경로 내에 *bond_pricing*이라는 폴더가 생겼습니다. 해당 폴더 내에 모든 코드들이 들어가 있습니다.\n",
    "\n",
    "이제 이 코드를 사용해 봅시다. 코드를 사용하기 위해서는 작업 경로를 해당 폴더로 바꾸어야 합니다\n",
    "\n",
    "(꼭 그래야 하는 건 아닙니다만, 이렇게 하나의 깃허브 레포지토리를 복사해서 쓰는 경우는 작업 경로를 바꿔서 사용하는 게 가장 좋습니다)\n",
    "\n",
    ".\n",
    "\n",
    "작업 경로는 `cd`로 지정합니다. `cd` 뒤에 폴더 명만 붙이면 현재 작업 공간 내에서 해당 폴더를 찾아 작업 경로로 지정해 줍니다.\n",
    "\n",
    "참고) 작업 경로를 새로 잡을 때는 전체 경로를 `cd` 뒤에 붙입니다. 또한 cd는 Change Directory의 약어입니다.\n",
    "\n"
   ]
  },
  {
   "cell_type": "code",
   "execution_count": 20,
   "id": "ef2b1ac9",
   "metadata": {},
   "outputs": [
    {
     "name": "stdout",
     "output_type": "stream",
     "text": [
      "c:\\Users\\ihoon\\Documents\\skk\\FR\\bond_pricing\n"
     ]
    }
   ],
   "source": [
    "cd bond_pricing"
   ]
  },
  {
   "cell_type": "code",
   "execution_count": 21,
   "id": "262a9a16",
   "metadata": {},
   "outputs": [
    {
     "data": {
      "text/plain": [
       "'c:\\\\Users\\\\ihoon\\\\Documents\\\\skk\\\\FR\\\\bond_pricing'"
      ]
     },
     "execution_count": 21,
     "metadata": {},
     "output_type": "execute_result"
    }
   ],
   "source": [
    "pwd"
   ]
  },
  {
   "cell_type": "code",
   "execution_count": null,
   "id": "836f21e6",
   "metadata": {
    "scrolled": true
   },
   "outputs": [],
   "source": [
    "#해당 패키지를 사용하기 위해서는 추가 명령어 수행이 필요합니다. 이런 경우는 보통 메뉴얼에 가이드가 안내되어 있으니, 크게 신경쓰지 않아도 됩니다.\n",
    "!python setup.py install"
   ]
  },
  {
   "cell_type": "markdown",
   "id": "909d273c",
   "metadata": {},
   "source": [
    "기나긴 준비 작업이 끝났습니다. 이제 해당 패키지를 불러옵시다. "
   ]
  },
  {
   "cell_type": "markdown",
   "id": "9fe7393d",
   "metadata": {},
   "source": [
    "bond_pricing 폴더 안에 다시 bond_pricing이라는 폴더가 있고, 그 폴더 안에 우리가 사용할 '함수'나 '클래스' 들이 있습니다.\n",
    "\n",
    "상위 bond_pricing은 이미 작업 경로로 세팅되어 있으니 신경 쓸 필요가 없고, 하위 폴더와 우리가 필요한 함수를 알려 주어 이것을 불러올 수 있도록 합시다."
   ]
  },
  {
   "cell_type": "code",
   "execution_count": 22,
   "id": "d49c2163",
   "metadata": {},
   "outputs": [
    {
     "name": "stderr",
     "output_type": "stream",
     "text": [
      "c:\\Users\\ihoon\\Documents\\skk\\FR\\bond_pricing\\bond_pricing\\simple_bonds.py:528: UserWarning: Module isda_daycounters is not installed.\n",
      "Only 'simple' daycount (basically ACT/365) is available.\n",
      "To use other daycounts, install isda_daycounters from\n",
      "https://github.com/miradulo/isda_daycounters\n",
      "  warn(\"Module isda_daycounters is not installed.\\n\"\n"
     ]
    }
   ],
   "source": [
    "from bond_pricing import bond_price"
   ]
  },
  {
   "cell_type": "markdown",
   "id": "def0b210",
   "metadata": {},
   "source": [
    "함수의 사용법은 보통 메뉴얼로 친절히 언급해 줍니다.\n",
    "\n",
    "사실 우리가 앞에서 다룬 Pandas, Numpy, Datetime 등도 패키지에 메뉴얼이 다 있답니다 :)\n",
    "\n",
    "아래 부분은 오늘 사용할 bond_price 부분 메뉴얼을 한글로 번역한 것입니다.\n",
    "\n",
    "**파리미터:**\n",
    "\n",
    "- **settle** (*date or None*) – 채권의 settlement date(매수일)\n",
    "- **cpn** (*float*) – 쿠폰율, 소수로 기재\n",
    "- **mat** (*float or date*) – 만기일\n",
    "- **yld** (*float*) – YTM(만기수익률, yield to maturity)를 소수로 기재\n",
    "- **freq** (*int*) – 쿠폰 지급주기\n",
    "- **comp_freq** (*int*) – 복리 계산 주기\n",
    "- **face** (*float*) – 채권의 액면가\n",
    "- **redeem** (*float*) – 채권의 상환 가치\n",
    "- **daycount** (*daycounter*) – day_count OR year_fraction\n",
    "\n",
    "**반환값:**\n",
    "\n",
    "채권의 Clean Price (채권에서 발생하는 쿠폰을 고려하지 않은 가격)\n",
    "\n",
    "**반환값 자료형:**\n",
    "\n",
    "실수형"
   ]
  },
  {
   "cell_type": "code",
   "execution_count": 24,
   "id": "accbe723",
   "metadata": {},
   "outputs": [
    {
     "data": {
      "text/plain": [
       "91.01741499375775"
      ]
     },
     "execution_count": 24,
     "metadata": {},
     "output_type": "execute_result"
    }
   ],
   "source": [
    "bond_price(mat=10, cpn=0.01, yld=0.02, freq=1, daycount='day_count') #만기가 10년, 쿠폰율 1%, YTM 2%, 지급주기 연1회인 채권의 clean price"
   ]
  }
 ],
 "metadata": {
  "kernelspec": {
   "display_name": "Python 3",
   "language": "python",
   "name": "python3"
  },
  "language_info": {
   "codemirror_mode": {
    "name": "ipython",
    "version": 3
   },
   "file_extension": ".py",
   "mimetype": "text/x-python",
   "name": "python",
   "nbconvert_exporter": "python",
   "pygments_lexer": "ipython3",
   "version": "3.8.8"
  }
 },
 "nbformat": 4,
 "nbformat_minor": 5
}
