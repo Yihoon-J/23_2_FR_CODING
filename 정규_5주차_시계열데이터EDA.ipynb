{
 "cells": [
  {
   "cell_type": "markdown",
   "metadata": {},
   "source": [
    "### 3초 꿀팁) 복붙으로 데이터프레임 만들기\n",
    "\n",
    "표를 복사하면 자동으로 데이터프레임을 만들어주는 혁명적인(?) 코드를 최근에 알게 되어 공유합니다.\n",
    "\n",
    "[코스피 일별 시세](https://finance.naver.com/sise/sise_index.naver?code=KOSPI) 표 부분을 선택하여 복사해 주세요."
   ]
  },
  {
   "cell_type": "code",
   "execution_count": 3,
   "metadata": {},
   "outputs": [],
   "source": [
    "import pandas as pd"
   ]
  },
  {
   "cell_type": "code",
   "execution_count": 4,
   "metadata": {},
   "outputs": [
    {
     "data": {
      "text/html": [
       "<div>\n",
       "<style scoped>\n",
       "    .dataframe tbody tr th:only-of-type {\n",
       "        vertical-align: middle;\n",
       "    }\n",
       "\n",
       "    .dataframe tbody tr th {\n",
       "        vertical-align: top;\n",
       "    }\n",
       "\n",
       "    .dataframe thead th {\n",
       "        text-align: right;\n",
       "    }\n",
       "</style>\n",
       "<table border=\"1\" class=\"dataframe\">\n",
       "  <thead>\n",
       "    <tr style=\"text-align: right;\">\n",
       "      <th></th>\n",
       "      <th>날짜</th>\n",
       "      <th>체결가</th>\n",
       "      <th>전일비</th>\n",
       "      <th>등락률</th>\n",
       "      <th>거래량(천주)</th>\n",
       "      <th>거래대금(백만)</th>\n",
       "    </tr>\n",
       "  </thead>\n",
       "  <tbody>\n",
       "    <tr>\n",
       "      <th>0</th>\n",
       "      <td>2023.10.20</td>\n",
       "      <td>2,375.00</td>\n",
       "      <td>하락 40.80</td>\n",
       "      <td>-1.69%</td>\n",
       "      <td>521,208</td>\n",
       "      <td>9,295,958</td>\n",
       "    </tr>\n",
       "    <tr>\n",
       "      <th>1</th>\n",
       "      <td>2023.10.19</td>\n",
       "      <td>2,415.80</td>\n",
       "      <td>하락 46.80</td>\n",
       "      <td>-1.90%</td>\n",
       "      <td>756,947</td>\n",
       "      <td>9,054,474</td>\n",
       "    </tr>\n",
       "    <tr>\n",
       "      <th>2</th>\n",
       "      <td>2023.10.18</td>\n",
       "      <td>2,462.60</td>\n",
       "      <td>상승 2.43</td>\n",
       "      <td>+0.10%</td>\n",
       "      <td>911,546</td>\n",
       "      <td>8,897,571</td>\n",
       "    </tr>\n",
       "    <tr>\n",
       "      <th>3</th>\n",
       "      <td>2023.10.17</td>\n",
       "      <td>2,460.17</td>\n",
       "      <td>상승 23.93</td>\n",
       "      <td>+0.98%</td>\n",
       "      <td>509,375</td>\n",
       "      <td>7,711,250</td>\n",
       "    </tr>\n",
       "    <tr>\n",
       "      <th>4</th>\n",
       "      <td>2023.10.16</td>\n",
       "      <td>2,436.24</td>\n",
       "      <td>하락 19.91</td>\n",
       "      <td>-0.81%</td>\n",
       "      <td>788,356</td>\n",
       "      <td>8,393,100</td>\n",
       "    </tr>\n",
       "    <tr>\n",
       "      <th>5</th>\n",
       "      <td>2023.10.13</td>\n",
       "      <td>2,456.15</td>\n",
       "      <td>하락 23.67</td>\n",
       "      <td>-0.95%</td>\n",
       "      <td>582,884</td>\n",
       "      <td>7,164,460</td>\n",
       "    </tr>\n",
       "  </tbody>\n",
       "</table>\n",
       "</div>"
      ],
      "text/plain": [
       "           날짜       체결가       전일비     등락률  거래량(천주)   거래대금(백만)\n",
       "0  2023.10.20  2,375.00  하락 40.80  -1.69%  521,208  9,295,958\n",
       "1  2023.10.19  2,415.80  하락 46.80  -1.90%  756,947  9,054,474\n",
       "2  2023.10.18  2,462.60   상승 2.43  +0.10%  911,546  8,897,571\n",
       "3  2023.10.17  2,460.17  상승 23.93  +0.98%  509,375  7,711,250\n",
       "4  2023.10.16  2,436.24  하락 19.91  -0.81%  788,356  8,393,100\n",
       "5  2023.10.13  2,456.15  하락 23.67  -0.95%  582,884  7,164,460"
      ]
     },
     "execution_count": 4,
     "metadata": {},
     "output_type": "execute_result"
    }
   ],
   "source": [
    "pd.read_clipboard()"
   ]
  },
  {
   "cell_type": "markdown",
   "metadata": {},
   "source": [
    "# 시계열 데이터 EDA\n",
    "데이터를 갖고 어떤 작업을 수행하시건, EDA라는 작업을 수행해 주는 것이 꼭 필요합니다.\n",
    "\n",
    "EDA는 Exploratory Data Analysis의 약자로, 한국어로는 '탐색적 분석'이라고 부릅니다.\n",
    "\n",
    "갖고 있는 자료의 크기, 구성, 자료형, 분포 등의 '상태를 확인' 하는 과정을 EDA라 합니다.\n",
    "\n",
    "여러분이 지금 갖고 있는 자료의 형태와 특징을 알아야 그에 맞는 작업을 수행할 수 있고 예기치 못하는 사고를 미연에 방지할 수 있기 때문에, EDA는 꼭 해야 하는 작업이라 생각해 주시면 좋겠습니다.\n",
    "\n",
    "주가 시계열 데이터를 활용하여 EDA를 수행하는 과정을 알아보겠습니다.\n",
    "\n",
    "```\n",
    "제가 말하는 '사고'의 예시는\n",
    "- 월별 주가를 시간 순으로 정렬한 줄 알았는데 저번에 본 것처럼 알파벳 순으로 정렬해 버렸다거나\n",
    "- 정수 덧셈 즉 111+222 = 333을 기대했는데 문자열 덧셈 '111'+'222'가 되어서 '111222'가 나온다거나\n",
    "- 주가수익률이 정규분포를 따른다고 가정하고 퀀트 알고리즘을 짰는데 정규성을 충족하지 못해 투자 성능이 엉망이 된다거나\n",
    "이런 것들이 있습니다.\n",
    "```"
   ]
  },
  {
   "cell_type": "markdown",
   "metadata": {},
   "source": [
    "# 1. 데이터 불러오기\n",
    "오늘은 [pykrx](https://github.com/sharebook-kr/pykrx)라고 하는 주가 정보 수집 패키지로 데이터를 만들겠습니다.\n",
    "\n",
    "이 패키지는 사용자들이 커스텀으로 만든 패키지이기 때문에 따로 설치가 필요한데요,\n",
    "\n",
    "대부분의 커스텀 패키지들은 `pip`라는 명령어로 설치가 가능합니다."
   ]
  },
  {
   "cell_type": "code",
   "execution_count": 5,
   "metadata": {},
   "outputs": [
    {
     "name": "stdout",
     "output_type": "stream",
     "text": [
      "Requirement already satisfied: pykrx in c:\\users\\ihoon\\anaconda3\\lib\\site-packages (1.0.45)\n",
      "Requirement already satisfied: numpy in c:\\users\\ihoon\\anaconda3\\lib\\site-packages (from pykrx) (1.19.5)\n",
      "Requirement already satisfied: datetime in c:\\users\\ihoon\\anaconda3\\lib\\site-packages (from pykrx) (5.2)\n",
      "Requirement already satisfied: requests in c:\\users\\ihoon\\anaconda3\\lib\\site-packages (from pykrx) (2.25.1)\n",
      "Requirement already satisfied: multipledispatch in c:\\users\\ihoon\\anaconda3\\lib\\site-packages (from pykrx) (0.6.0)\n",
      "Requirement already satisfied: deprecated in c:\\users\\ihoon\\anaconda3\\lib\\site-packages (from pykrx) (1.2.14)\n",
      "Requirement already satisfied: matplotlib in c:\\users\\ihoon\\anaconda3\\lib\\site-packages (from pykrx) (3.3.4)\n",
      "Requirement already satisfied: pandas in c:\\users\\ihoon\\anaconda3\\lib\\site-packages (from pykrx) (1.2.4)\n",
      "Requirement already satisfied: xlrd in c:\\users\\ihoon\\anaconda3\\lib\\site-packages (from pykrx) (2.0.1)\n",
      "Requirement already satisfied: zope.interface in c:\\users\\ihoon\\anaconda3\\lib\\site-packages (from datetime->pykrx) (5.3.0)\n",
      "Requirement already satisfied: pytz in c:\\users\\ihoon\\anaconda3\\lib\\site-packages (from datetime->pykrx) (2021.1)\n",
      "Requirement already satisfied: wrapt<2,>=1.10 in c:\\users\\ihoon\\anaconda3\\lib\\site-packages (from deprecated->pykrx) (1.12.1)\n",
      "Requirement already satisfied: kiwisolver>=1.0.1 in c:\\users\\ihoon\\anaconda3\\lib\\site-packages (from matplotlib->pykrx) (1.3.1)\n",
      "Requirement already satisfied: python-dateutil>=2.1 in c:\\users\\ihoon\\anaconda3\\lib\\site-packages (from matplotlib->pykrx) (2.8.1)\n",
      "Requirement already satisfied: cycler>=0.10 in c:\\users\\ihoon\\anaconda3\\lib\\site-packages (from matplotlib->pykrx) (0.10.0)\n",
      "Requirement already satisfied: pyparsing!=2.0.4,!=2.1.2,!=2.1.6,>=2.0.3 in c:\\users\\ihoon\\anaconda3\\lib\\site-packages (from matplotlib->pykrx) (2.4.7)\n",
      "Requirement already satisfied: pillow>=6.2.0 in c:\\users\\ihoon\\anaconda3\\lib\\site-packages (from matplotlib->pykrx) (8.2.0)\n",
      "Requirement already satisfied: six in c:\\users\\ihoon\\anaconda3\\lib\\site-packages (from cycler>=0.10->matplotlib->pykrx) (1.15.0)\n",
      "Requirement already satisfied: urllib3<1.27,>=1.21.1 in c:\\users\\ihoon\\anaconda3\\lib\\site-packages (from requests->pykrx) (1.26.4)\n",
      "Requirement already satisfied: idna<3,>=2.5 in c:\\users\\ihoon\\anaconda3\\lib\\site-packages (from requests->pykrx) (2.10)\n",
      "Requirement already satisfied: certifi>=2017.4.17 in c:\\users\\ihoon\\anaconda3\\lib\\site-packages (from requests->pykrx) (2020.12.5)\n",
      "Requirement already satisfied: chardet<5,>=3.0.2 in c:\\users\\ihoon\\anaconda3\\lib\\site-packages (from requests->pykrx) (4.0.0)\n",
      "Requirement already satisfied: setuptools in c:\\users\\ihoon\\anaconda3\\lib\\site-packages (from zope.interface->datetime->pykrx) (52.0.0.post20210125)\n"
     ]
    }
   ],
   "source": [
    "!pip install pykrx #pip는 파이썬 문법이 아니라 프롬프트 명령어이기 때문에 앞에 !을 붙여 줍니다."
   ]
  },
  {
   "cell_type": "code",
   "execution_count": 7,
   "metadata": {},
   "outputs": [],
   "source": [
    "from pykrx import stock #pykrx 안에서 주가 정보를 불러오는 모듈을 불러 옵니다."
   ]
  },
  {
   "cell_type": "markdown",
   "metadata": {},
   "source": [
    "pykrx로 오뚜기 주가를 불러오겠습니다. pykrx의 사용법은 위에 링크로 첨부해 두었으니 참고해 주세요.\n",
    "\n",
    "원하시는 종목이 있다면 오늘 실습에서 해당 종목의 코드를 집어넣어서 사용하셔도 무방합니다."
   ]
  },
  {
   "cell_type": "code",
   "execution_count": 42,
   "metadata": {},
   "outputs": [],
   "source": [
    "df = stock.get_market_ohlcv(\"20221021\", \"20231020\", \"007310\") #007310 오뚜기"
   ]
  },
  {
   "cell_type": "markdown",
   "metadata": {},
   "source": [
    "# 2. 데이터 확인하기\n",
    "제일 먼저 할 일은 데이터가 어떻게 생겼는지 보는 일이겠죠?\n",
    "\n",
    "먼저 데이터의 샘플을 뽑아서 **행과 열이 어떻게 생겨 있는지**부터 봅시다."
   ]
  },
  {
   "cell_type": "code",
   "execution_count": 43,
   "metadata": {},
   "outputs": [
    {
     "data": {
      "text/html": [
       "<div>\n",
       "<style scoped>\n",
       "    .dataframe tbody tr th:only-of-type {\n",
       "        vertical-align: middle;\n",
       "    }\n",
       "\n",
       "    .dataframe tbody tr th {\n",
       "        vertical-align: top;\n",
       "    }\n",
       "\n",
       "    .dataframe thead th {\n",
       "        text-align: right;\n",
       "    }\n",
       "</style>\n",
       "<table border=\"1\" class=\"dataframe\">\n",
       "  <thead>\n",
       "    <tr style=\"text-align: right;\">\n",
       "      <th></th>\n",
       "      <th>시가</th>\n",
       "      <th>고가</th>\n",
       "      <th>저가</th>\n",
       "      <th>종가</th>\n",
       "      <th>거래량</th>\n",
       "      <th>등락률</th>\n",
       "    </tr>\n",
       "    <tr>\n",
       "      <th>날짜</th>\n",
       "      <th></th>\n",
       "      <th></th>\n",
       "      <th></th>\n",
       "      <th></th>\n",
       "      <th></th>\n",
       "      <th></th>\n",
       "    </tr>\n",
       "  </thead>\n",
       "  <tbody>\n",
       "    <tr>\n",
       "      <th>2022-10-21</th>\n",
       "      <td>444500</td>\n",
       "      <td>444500</td>\n",
       "      <td>432000</td>\n",
       "      <td>435000</td>\n",
       "      <td>4085</td>\n",
       "      <td>-1.023891</td>\n",
       "    </tr>\n",
       "    <tr>\n",
       "      <th>2022-10-24</th>\n",
       "      <td>440000</td>\n",
       "      <td>441500</td>\n",
       "      <td>435000</td>\n",
       "      <td>439500</td>\n",
       "      <td>3286</td>\n",
       "      <td>1.034483</td>\n",
       "    </tr>\n",
       "    <tr>\n",
       "      <th>2022-10-25</th>\n",
       "      <td>437500</td>\n",
       "      <td>442000</td>\n",
       "      <td>435500</td>\n",
       "      <td>440500</td>\n",
       "      <td>2548</td>\n",
       "      <td>0.227531</td>\n",
       "    </tr>\n",
       "    <tr>\n",
       "      <th>2022-10-26</th>\n",
       "      <td>436500</td>\n",
       "      <td>441000</td>\n",
       "      <td>436500</td>\n",
       "      <td>438000</td>\n",
       "      <td>1176</td>\n",
       "      <td>-0.567537</td>\n",
       "    </tr>\n",
       "    <tr>\n",
       "      <th>2022-10-27</th>\n",
       "      <td>439500</td>\n",
       "      <td>444500</td>\n",
       "      <td>439500</td>\n",
       "      <td>441500</td>\n",
       "      <td>2099</td>\n",
       "      <td>0.799087</td>\n",
       "    </tr>\n",
       "  </tbody>\n",
       "</table>\n",
       "</div>"
      ],
      "text/plain": [
       "                시가      고가      저가      종가   거래량       등락률\n",
       "날짜                                                        \n",
       "2022-10-21  444500  444500  432000  435000  4085 -1.023891\n",
       "2022-10-24  440000  441500  435000  439500  3286  1.034483\n",
       "2022-10-25  437500  442000  435500  440500  2548  0.227531\n",
       "2022-10-26  436500  441000  436500  438000  1176 -0.567537\n",
       "2022-10-27  439500  444500  439500  441500  2099  0.799087"
      ]
     },
     "execution_count": 43,
     "metadata": {},
     "output_type": "execute_result"
    }
   ],
   "source": [
    "df.head() #첫 다섯 행 출력. 괄호 안에 숫자를 넣어 행 수를 바꿀 수 있다."
   ]
  },
  {
   "cell_type": "code",
   "execution_count": 45,
   "metadata": {},
   "outputs": [
    {
     "data": {
      "text/html": [
       "<div>\n",
       "<style scoped>\n",
       "    .dataframe tbody tr th:only-of-type {\n",
       "        vertical-align: middle;\n",
       "    }\n",
       "\n",
       "    .dataframe tbody tr th {\n",
       "        vertical-align: top;\n",
       "    }\n",
       "\n",
       "    .dataframe thead th {\n",
       "        text-align: right;\n",
       "    }\n",
       "</style>\n",
       "<table border=\"1\" class=\"dataframe\">\n",
       "  <thead>\n",
       "    <tr style=\"text-align: right;\">\n",
       "      <th></th>\n",
       "      <th>시가</th>\n",
       "      <th>고가</th>\n",
       "      <th>저가</th>\n",
       "      <th>종가</th>\n",
       "      <th>거래량</th>\n",
       "      <th>등락률</th>\n",
       "    </tr>\n",
       "    <tr>\n",
       "      <th>날짜</th>\n",
       "      <th></th>\n",
       "      <th></th>\n",
       "      <th></th>\n",
       "      <th></th>\n",
       "      <th></th>\n",
       "      <th></th>\n",
       "    </tr>\n",
       "  </thead>\n",
       "  <tbody>\n",
       "    <tr>\n",
       "      <th>2023-10-16</th>\n",
       "      <td>369500</td>\n",
       "      <td>382000</td>\n",
       "      <td>368500</td>\n",
       "      <td>377000</td>\n",
       "      <td>12320</td>\n",
       "      <td>2.306649</td>\n",
       "    </tr>\n",
       "    <tr>\n",
       "      <th>2023-10-17</th>\n",
       "      <td>377000</td>\n",
       "      <td>377000</td>\n",
       "      <td>369500</td>\n",
       "      <td>373500</td>\n",
       "      <td>6457</td>\n",
       "      <td>-0.928382</td>\n",
       "    </tr>\n",
       "    <tr>\n",
       "      <th>2023-10-18</th>\n",
       "      <td>372500</td>\n",
       "      <td>374000</td>\n",
       "      <td>369000</td>\n",
       "      <td>372000</td>\n",
       "      <td>3457</td>\n",
       "      <td>-0.401606</td>\n",
       "    </tr>\n",
       "    <tr>\n",
       "      <th>2023-10-19</th>\n",
       "      <td>371000</td>\n",
       "      <td>373000</td>\n",
       "      <td>366000</td>\n",
       "      <td>369500</td>\n",
       "      <td>4493</td>\n",
       "      <td>-0.672043</td>\n",
       "    </tr>\n",
       "    <tr>\n",
       "      <th>2023-10-20</th>\n",
       "      <td>369000</td>\n",
       "      <td>369500</td>\n",
       "      <td>361000</td>\n",
       "      <td>367500</td>\n",
       "      <td>5166</td>\n",
       "      <td>-0.541272</td>\n",
       "    </tr>\n",
       "  </tbody>\n",
       "</table>\n",
       "</div>"
      ],
      "text/plain": [
       "                시가      고가      저가      종가    거래량       등락률\n",
       "날짜                                                         \n",
       "2023-10-16  369500  382000  368500  377000  12320  2.306649\n",
       "2023-10-17  377000  377000  369500  373500   6457 -0.928382\n",
       "2023-10-18  372500  374000  369000  372000   3457 -0.401606\n",
       "2023-10-19  371000  373000  366000  369500   4493 -0.672043\n",
       "2023-10-20  369000  369500  361000  367500   5166 -0.541272"
      ]
     },
     "execution_count": 45,
     "metadata": {},
     "output_type": "execute_result"
    }
   ],
   "source": [
    "df.tail() #마지막 다섯 행 출력. 마찬가지로 괄호 안에 숫자로 행 수 변경 가능"
   ]
  },
  {
   "cell_type": "code",
   "execution_count": 46,
   "metadata": {},
   "outputs": [
    {
     "data": {
      "text/html": [
       "<div>\n",
       "<style scoped>\n",
       "    .dataframe tbody tr th:only-of-type {\n",
       "        vertical-align: middle;\n",
       "    }\n",
       "\n",
       "    .dataframe tbody tr th {\n",
       "        vertical-align: top;\n",
       "    }\n",
       "\n",
       "    .dataframe thead th {\n",
       "        text-align: right;\n",
       "    }\n",
       "</style>\n",
       "<table border=\"1\" class=\"dataframe\">\n",
       "  <thead>\n",
       "    <tr style=\"text-align: right;\">\n",
       "      <th></th>\n",
       "      <th>시가</th>\n",
       "      <th>고가</th>\n",
       "      <th>저가</th>\n",
       "      <th>종가</th>\n",
       "      <th>거래량</th>\n",
       "      <th>등락률</th>\n",
       "    </tr>\n",
       "    <tr>\n",
       "      <th>날짜</th>\n",
       "      <th></th>\n",
       "      <th></th>\n",
       "      <th></th>\n",
       "      <th></th>\n",
       "      <th></th>\n",
       "      <th></th>\n",
       "    </tr>\n",
       "  </thead>\n",
       "  <tbody>\n",
       "    <tr>\n",
       "      <th>2022-11-01</th>\n",
       "      <td>440500</td>\n",
       "      <td>444000</td>\n",
       "      <td>439000</td>\n",
       "      <td>440500</td>\n",
       "      <td>2042</td>\n",
       "      <td>-0.226501</td>\n",
       "    </tr>\n",
       "    <tr>\n",
       "      <th>2023-08-22</th>\n",
       "      <td>367000</td>\n",
       "      <td>372500</td>\n",
       "      <td>361000</td>\n",
       "      <td>370000</td>\n",
       "      <td>6215</td>\n",
       "      <td>0.954980</td>\n",
       "    </tr>\n",
       "    <tr>\n",
       "      <th>2023-05-23</th>\n",
       "      <td>461000</td>\n",
       "      <td>461000</td>\n",
       "      <td>456500</td>\n",
       "      <td>457000</td>\n",
       "      <td>1662</td>\n",
       "      <td>-0.218341</td>\n",
       "    </tr>\n",
       "    <tr>\n",
       "      <th>2023-04-24</th>\n",
       "      <td>451000</td>\n",
       "      <td>457500</td>\n",
       "      <td>448500</td>\n",
       "      <td>454000</td>\n",
       "      <td>4158</td>\n",
       "      <td>0.776915</td>\n",
       "    </tr>\n",
       "    <tr>\n",
       "      <th>2023-05-18</th>\n",
       "      <td>451500</td>\n",
       "      <td>455000</td>\n",
       "      <td>450500</td>\n",
       "      <td>455000</td>\n",
       "      <td>2086</td>\n",
       "      <td>0.663717</td>\n",
       "    </tr>\n",
       "  </tbody>\n",
       "</table>\n",
       "</div>"
      ],
      "text/plain": [
       "                시가      고가      저가      종가   거래량       등락률\n",
       "날짜                                                        \n",
       "2022-11-01  440500  444000  439000  440500  2042 -0.226501\n",
       "2023-08-22  367000  372500  361000  370000  6215  0.954980\n",
       "2023-05-23  461000  461000  456500  457000  1662 -0.218341\n",
       "2023-04-24  451000  457500  448500  454000  4158  0.776915\n",
       "2023-05-18  451500  455000  450500  455000  2086  0.663717"
      ]
     },
     "execution_count": 46,
     "metadata": {},
     "output_type": "execute_result"
    }
   ],
   "source": [
    "df.sample(5) #무작위로 다섯 행 출력. 숫자를 지정하지 않으면 1행만 출력됨"
   ]
  },
  {
   "cell_type": "code",
   "execution_count": 47,
   "metadata": {},
   "outputs": [
    {
     "data": {
      "text/plain": [
       "(247, 6)"
      ]
     },
     "execution_count": 47,
     "metadata": {},
     "output_type": "execute_result"
    }
   ],
   "source": [
    "df.shape #데이터프레임이 몇 행 몇 열인지 확인"
   ]
  },
  {
   "cell_type": "markdown",
   "metadata": {},
   "source": [
    "또 하나 꼭 해야 할 일이 결측치를 확인하는 일입니다. 다행히 여기는 결측치가 없네요.\n",
    "\n",
    "결측치가 있을 경우 어떻게 해야 하는지도 오늘 다룰 예정입니다!"
   ]
  },
  {
   "cell_type": "code",
   "execution_count": 67,
   "metadata": {},
   "outputs": [
    {
     "data": {
      "text/plain": [
       "시가     0\n",
       "고가     0\n",
       "저가     0\n",
       "종가     0\n",
       "거래량    0\n",
       "등락률    0\n",
       "dtype: int64"
      ]
     },
     "execution_count": 67,
     "metadata": {},
     "output_type": "execute_result"
    }
   ],
   "source": [
    "df.isna().sum()"
   ]
  },
  {
   "cell_type": "markdown",
   "metadata": {},
   "source": [
    "다음 할 일은 **데이터의 자료형을 확인**하는 일입니다. 이때 `info()` 함수를 사용합니다."
   ]
  },
  {
   "cell_type": "code",
   "execution_count": 48,
   "metadata": {},
   "outputs": [
    {
     "name": "stdout",
     "output_type": "stream",
     "text": [
      "<class 'pandas.core.frame.DataFrame'>\n",
      "DatetimeIndex: 247 entries, 2022-10-21 to 2023-10-20\n",
      "Data columns (total 6 columns):\n",
      " #   Column  Non-Null Count  Dtype  \n",
      "---  ------  --------------  -----  \n",
      " 0   시가      247 non-null    int32  \n",
      " 1   고가      247 non-null    int32  \n",
      " 2   저가      247 non-null    int32  \n",
      " 3   종가      247 non-null    int32  \n",
      " 4   거래량     247 non-null    int32  \n",
      " 5   등락률     247 non-null    float64\n",
      "dtypes: float64(1), int32(5)\n",
      "memory usage: 8.7 KB\n"
     ]
    }
   ],
   "source": [
    "df.info()\n",
    "#int는 정수(integer), float는 실수를 뜻합니다.\n",
    "#뒤에 붙은 숫자가 크면 클수록 자리수를 많이 넣을 수 있지만 그만큼 용량이 커집니다.\n",
    "#예를 들어 int32의 경우 (-1)×2^31 부터 2^31 -1 까지의 값을 넣을 수 있습니다."
   ]
  },
  {
   "cell_type": "markdown",
   "metadata": {},
   "source": [
    "# 3. 데이터의 분포 파악\n",
    "행 열 구조와 자료형 확인 후에는 **데이터의 분포**를 확인해 줍니다."
   ]
  },
  {
   "cell_type": "markdown",
   "metadata": {},
   "source": [
    "먼저 앞에서 배운 `describe` 함수로 평균, 표준편차, 4분위값 등을 확인해 줍니다.\n",
    "- 상식에서 벗어나는 값은 없는지 확인하여 올바른 데이터인지 확인합시다."
   ]
  },
  {
   "cell_type": "code",
   "execution_count": 49,
   "metadata": {},
   "outputs": [
    {
     "data": {
      "text/plain": [
       "count    247.000000\n",
       "mean      -0.064687\n",
       "std        1.246323\n",
       "min       -4.102564\n",
       "25%       -0.918736\n",
       "50%       -0.135685\n",
       "75%        0.684715\n",
       "max        4.456522\n",
       "Name: 등락률, dtype: float64"
      ]
     },
     "execution_count": 49,
     "metadata": {},
     "output_type": "execute_result"
    }
   ],
   "source": [
    "df['등락률'].describe()"
   ]
  },
  {
   "cell_type": "markdown",
   "metadata": {},
   "source": [
    "다음으로 데이터를 시각화하여 확인합니다.\n",
    "\n",
    "*데이터 시각화 코드는 6주차 수업에서 상세하게 다룰 예정이므로,*\n",
    "\n",
    "*오늘은 어떤 시각화를 하는지만 가볍게 확인해주세요.*"
   ]
  },
  {
   "cell_type": "code",
   "execution_count": 50,
   "metadata": {},
   "outputs": [
    {
     "data": {
      "text/plain": [
       "<AxesSubplot:xlabel='날짜'>"
      ]
     },
     "execution_count": 50,
     "metadata": {},
     "output_type": "execute_result"
    },
    {
     "data": {
      "image/png": "[encoded data removed]",
      "text/plain": [
       "<Figure size 432x288 with 1 Axes>"
      ]
     },
     "metadata": {
      "needs_background": "light"
     },
     "output_type": "display_data"
    }
   ],
   "source": [
    "df['등락률'].plot()"
   ]
  },
  {
   "cell_type": "code",
   "execution_count": 51,
   "metadata": {},
   "outputs": [
    {
     "data": {
      "text/plain": [
       "<AxesSubplot:ylabel='Frequency'>"
      ]
     },
     "execution_count": 51,
     "metadata": {},
     "output_type": "execute_result"
    },
    {
     "data": {
      "image/png": "[encoded data removed]",
      "text/plain": [
       "<Figure size 432x288 with 1 Axes>"
      ]
     },
     "metadata": {
      "needs_background": "light"
     },
     "output_type": "display_data"
    }
   ],
   "source": [
    "df['등락률'].plot(kind='hist')"
   ]
  },
  {
   "cell_type": "markdown",
   "metadata": {},
   "source": [
    "확인이 필요한 또 하나의 값이 **왜도, 첨도**입니다.\n",
    "- 왜도와 첨도를 확인하는 이유는, 모델에 데이터를 넣을 때 데이터의 분포에 따라 적당히 변환해 주어야 성능이 잘 나오기 때문임."
   ]
  },
  {
   "cell_type": "code",
   "execution_count": 52,
   "metadata": {},
   "outputs": [
    {
     "data": {
      "text/plain": [
       "0.32956181647954846"
      ]
     },
     "execution_count": 52,
     "metadata": {},
     "output_type": "execute_result"
    }
   ],
   "source": [
    "df['등락률'].skew() #왜도 확인:약간 오른쪽으로 치우친 데이터임을 알 수 있다"
   ]
  },
  {
   "cell_type": "code",
   "execution_count": 54,
   "metadata": {},
   "outputs": [
    {
     "data": {
      "text/plain": [
       "1.1430383372762116"
      ]
     },
     "execution_count": 54,
     "metadata": {},
     "output_type": "execute_result"
    }
   ],
   "source": [
    "df['등락률'].kurt() #첨도 확인: 정규분포보다 뾰족한 형태임 (3을 뺀 값을 기준으로 하는 듯)"
   ]
  }
 ],
 "metadata": {
  "kernelspec": {
   "display_name": "base",
   "language": "python",
   "name": "python3"
  },
  "language_info": {
   "codemirror_mode": {
    "name": "ipython",
    "version": 3
   },
   "file_extension": ".py",
   "mimetype": "text/x-python",
   "name": "python",
   "nbconvert_exporter": "python",
   "pygments_lexer": "ipython3",
   "version": "3.8.8"
  },
  "orig_nbformat": 4
 },
 "nbformat": 4,
 "nbformat_minor": 2
}
